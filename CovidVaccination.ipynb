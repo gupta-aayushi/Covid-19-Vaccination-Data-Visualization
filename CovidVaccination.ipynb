{
  "nbformat": 4,
  "nbformat_minor": 0,
  "metadata": {
    "colab": {
      "provenance": [],
      "authorship_tag": "ABX9TyMBgjPsK/PGMzlpKy+Uq7+a",
      "include_colab_link": true
    },
    "kernelspec": {
      "name": "python3",
      "display_name": "Python 3"
    },
    "language_info": {
      "name": "python"
    }
  },
  "cells": [
    {
      "cell_type": "markdown",
      "metadata": {
        "id": "view-in-github",
        "colab_type": "text"
      },
      "source": [
        "<a href=\"https://colab.research.google.com/github/gupta-aayushi/Covid-19-Vaccination-Data-Visualization/blob/main/CovidVaccination.ipynb\" target=\"_parent\"><img src=\"https://colab.research.google.com/assets/colab-badge.svg\" alt=\"Open In Colab\"/></a>"
      ]
    },
    {
      "cell_type": "markdown",
      "source": [
        "# **Covid-19 Vaccination Data Visualizer**"
      ],
      "metadata": {
        "id": "1Dv7bQXljdrB"
      }
    },
    {
      "cell_type": "code",
      "source": [
        "import pandas as pd\n",
        "import numpy as np\n",
        "import matplotlib.pyplot as plt"
      ],
      "metadata": {
        "id": "XVmvtmNrDO_B"
      },
      "execution_count": 58,
      "outputs": []
    },
    {
      "cell_type": "code",
      "execution_count": 59,
      "metadata": {
        "id": "1RnKdNPvAr23"
      },
      "outputs": [],
      "source": [
        "def main_menu():\n",
        "    print(\"!!!!!!!!!!!!!!!!!!!!!!!!!!!!!!!\")\n",
        "    print(\"Read Data from file in Different way\")\n",
        "    print(\"1. Read complete CSV file\")\n",
        "    print(\"2. Reading complete file without index\")\n",
        "    print(\"*******************************\")\n",
        "    print(\"Data Visualisation\")\n",
        "    print(\"3. Line Chart\")\n",
        "    print(\"4. Bar Plot\")\n",
        "    print(\"5. Pie Chart\")\n",
        "    print(\"6. Scatter Chart\")\n",
        "    print(\"*******************************\")\n",
        "    print(\"Apply Data Manipulation in the records of CSV file\")\n",
        "    print(\"7. Sorting the data as per your choice\")\n",
        "    print(\"8. Read Top and Bottom Records from file as per requirement\")\n",
        "    print(\"9. Make the copy of CSV file\")\n",
        "    print(\"10. Read the Specific columns\")\n",
        "    print(\"*******************************\")"
      ]
    },
    {
      "cell_type": "code",
      "source": [
        "def ReadCSV():\n",
        "    print(\"Reading Data from CSV file\")\n",
        "    a1 = pd.read_csv('/country_vaccinations.csv')\n",
        "    print(a1)"
      ],
      "metadata": {
        "id": "QsbM1sjfDXzT"
      },
      "execution_count": 60,
      "outputs": []
    },
    {
      "cell_type": "code",
      "source": [
        "def no_index():\n",
        "    print(\"Reading Data from CSV file without index value\")\n",
        "    a1 = pd.read_csv('/country_vaccinations.csv', index_col=0)\n",
        "    print(a1)"
      ],
      "metadata": {
        "id": "0-k0oAq6DcVp"
      },
      "execution_count": 23,
      "outputs": []
    },
    {
      "cell_type": "code",
      "source": [
        "def line_plot():\n",
        "    a1 = pd.read_csv('/country_vaccinations.csv')\n",
        "    cn = a1['country']\n",
        "    tv = a1['total_vaccinations']\n",
        "    pv = a1['people_vaccinated']\n",
        "    pfv = a1['people_fully_vaccinated']\n",
        "    dv = a1['daily_vaccinations']\n",
        "    plt.xlabel(\"COUNTRIES\")\n",
        "    plt.xticks(rotation='vertical')\n",
        "\n",
        "    print(\"Select Specific Line chart as given below\")\n",
        "    print(\"press 1 to print data for COUNTRY vs TOTAL VACCINATIONS\")\n",
        "    print(\"press 2 to print the data for COUNTRY vs PEOPLE VACCINATED\")\n",
        "    print(\"press 3 to print the data for COUNTRY vs PEOPLE FULLY VACCINATED\")\n",
        "    print(\"press 4 to print the data for COUNTRY vs DAILY VACCINATIONS\")\n",
        "    print(\"press 5 to merge all the data in one Line Chart\")\n",
        "\n",
        "    op = int(input(\"Enter your choice:\"))\n",
        "\n",
        "    if op == 1:\n",
        "        plt.ylabel(\"TOTAL VACCINATIONS\")\n",
        "        plt.title(\"COUNTRY WISE TOTAL VACCINATIONS\")\n",
        "        plt.plot(cn, tv)\n",
        "        plt.show()\n",
        "    elif op == 2:\n",
        "        plt.ylabel(\"PEOPLE VACCINATED\")\n",
        "        plt.title(\"COUNTRY WISE PEOPLE VACCINATED\")\n",
        "        plt.plot(cn, pv)\n",
        "        plt.show()\n",
        "    elif op == 3:\n",
        "        plt.ylabel(\"PEOPLE FULLY VACCINATED\")\n",
        "        plt.title(\"COUNTRY WISE PEOPLE FULLY VACCINATED\")\n",
        "        plt.plot(cn, pfv)\n",
        "        plt.show()\n",
        "    elif op == 4:\n",
        "        plt.ylabel(\"DAILY VACCINATIONS\")\n",
        "        plt.title(\"COUNTRY WISE DAILY VACCINATIONS\")\n",
        "        plt.plot(cn, dv)\n",
        "        plt.show()\n",
        "    elif op == 5:\n",
        "        plt.ylabel(\"NUMBER OF VACCINATIONS\")\n",
        "        plt.plot(cn, tv, label=\"COUNTRY WISE TOTAL VACCINATIONS\")\n",
        "        plt.plot(cn, pv, label=\"COUNTRY WISE PEOPLE VACCINATED\")\n",
        "        plt.plot(cn, pfv, label=\"COUNTRY WISE PEOPLE FULLY VACCINATED\")\n",
        "        plt.plot(cn, dv, label=\"COUNTRY WISE DAILY VACCINATIONS\")\n",
        "        plt.legend()\n",
        "        plt.show()\n",
        "    else:\n",
        "        print(\"Enter valid input\")"
      ],
      "metadata": {
        "id": "eY9CCRR8Dhsj"
      },
      "execution_count": 33,
      "outputs": []
    },
    {
      "cell_type": "code",
      "source": [
        "def bar_plot():\n",
        "    a1 = pd.read_csv('/country_vaccinations.csv')\n",
        "    cn = a1['country']\n",
        "    tv = a1['total_vaccinations']\n",
        "    pv = a1['people_vaccinated']\n",
        "    pfv = a1['people_fully_vaccinated']\n",
        "    dv = a1['daily_vaccinations']\n",
        "    plt.xlabel(\"COUNTRY\")\n",
        "    plt.xticks(rotation='vertical')\n",
        "\n",
        "    print(\"Select Specific Bar Chart as given below:\")\n",
        "    print(\"press 1 to print the data for COUNTRY vs TOTAL VACCINATIONS\")\n",
        "    print(\"press 2 to print the data for COUNTRY vs PEOPLE VACCINATED\")\n",
        "    print(\"press 3 to print the data for COUNTRY vs PEOPLE FULLY VACCINATED\")\n",
        "    print(\"press 4 to print the data for COUNTRY vs DAILY VACCINATIONS\")\n",
        "    print(\"press 5 to print all the data in form of stack bar chart\")\n",
        "    print(\"press 6 to print all the data in form of multi bar chart\")\n",
        "\n",
        "    op = int(input(\"Enter your choice:\"))\n",
        "\n",
        "    if op == 1:\n",
        "        plt.ylabel(\"TOTAL VACCINATIONS\")\n",
        "        plt.title(\"COUNTRY WISE TOTAL VACCINATIONS\")\n",
        "        plt.bar(cn, tv)\n",
        "        plt.show()\n",
        "    elif op == 2:\n",
        "        plt.ylabel(\"PEOPLE VACCINATED\")\n",
        "        plt.title(\"COUNTRY WISE PEOPLE VACCINATED\")\n",
        "        plt.bar(cn, pv)\n",
        "        plt.show()\n",
        "    elif op == 3:\n",
        "        plt.ylabel(\"PEOPLE FULLY VACCINATED\")\n",
        "        plt.title(\"COUNTRY WISE PEOPLE FULLY VACCINATED\")\n",
        "        plt.bar(cn, pfv)\n",
        "        plt.show()\n",
        "    elif op == 4:\n",
        "        plt.ylabel(\"DAILY VACCINATIONS\")\n",
        "        plt.title(\"COUNTRY WISE DAILY VACCINATIONS\")\n",
        "        plt.bar(cn, dv)\n",
        "        plt.show()\n",
        "    elif op == 5:\n",
        "        plt.bar(cn, tv, width=0.2, label=\"COUNTRY WISE TOTAL VACCINATIONS\")\n",
        "        plt.bar(cn, pv, width=0.2, label=\"COUNTRY WISE PEOPLE VACCINATED\")\n",
        "        plt.bar(cn, pfv, width=0.2, label=\"COUNTRY WISE PEOPLE FULLY VACCINATED\")\n",
        "        plt.bar(cn, dv, width=0.2, label=\"COUNTRY WISE DAILY VACCINATIONS\")\n",
        "        plt.legend()\n",
        "        plt.show()\n",
        "    elif op == 6:\n",
        "        ind = np.arange(len(cn))\n",
        "        width = 0.25\n",
        "        plt.bar(ind, tv, width, label=\"COUNTRY WISE TOTAL VACCINATIONS\")\n",
        "        plt.bar(ind + 0.25, pv, width, label=\"COUNTRY WISE PEOPLE VACCINATED\")\n",
        "        plt.bar(ind + 0.50, pfv, width, label=\"COUNTRY WISE PEOPLE FULLY VACCINATED\")\n",
        "        plt.bar(ind + 0.75, dv, width, label=\"COUNTRY WISE DAILY VACCINATIONS\")\n",
        "        plt.legend()\n",
        "        plt.show()\n",
        "    else:\n",
        "        print(\"Enter valid input\")"
      ],
      "metadata": {
        "id": "2Yq4WhuTDmaG"
      },
      "execution_count": 34,
      "outputs": []
    },
    {
      "cell_type": "code",
      "source": [
        "def pie_plot():\n",
        "    a1 = pd.read_csv('/country_vaccinations.csv')\n",
        "    cn = a1['country']\n",
        "    tv = a1['total_vaccinations'].fillna(0)\n",
        "    pv = a1['people_vaccinated'].fillna(0)\n",
        "\n",
        "    print(\"Select Specific Pie Chart as given below:\")\n",
        "    print(\"print 1 to print the data for COUNTRY vs TOTAL VACCINATIONS\")\n",
        "    print(\"press 2 to print the data for COUNTRY vs PEOPLE VACCINATED\")\n",
        "\n",
        "    op = int(input(\"Enter your choice:\"))\n",
        "\n",
        "    if op == 1:\n",
        "        plt.title(\"COUNTRY WISE TOTAL VACCINATIONS\")\n",
        "        plt.pie(tv, labels=cn, autopct=\"%3d%%\")\n",
        "        plt.show()\n",
        "    elif op == 2:\n",
        "        plt.title(\"COUNTRY WISE PEOPLE VACCINATED\")\n",
        "        plt.pie(pv, labels=cn, autopct=\"%3d%%\")\n",
        "        plt.show()\n",
        "    else:\n",
        "        print(\"Enter valid input\")"
      ],
      "metadata": {
        "id": "EzUk8p1KDxQr"
      },
      "execution_count": 61,
      "outputs": []
    },
    {
      "cell_type": "code",
      "source": [
        "def scatter_chart():\n",
        "    a1 = pd.read_csv('/country_vaccinations.csv')\n",
        "    cn = a1['country']\n",
        "    tv = a1['total_vaccinations']\n",
        "    pv = a1['people_vaccinated']\n",
        "    pfv = a1['people_fully_vaccinated']\n",
        "    dv = a1['daily_vaccinations']\n",
        "\n",
        "    ch = plt.gca()\n",
        "    ch.scatter(cn, tv, color='b', label=\"COUNTRY WISE TOTAL VACCINATIONS\")\n",
        "    ch.scatter(cn, pv, color='r', label=\"COUNTRY WISE PEOPLE VACCINATED\")\n",
        "    ch.scatter(cn, pfv, color='g', label=\"COUNTRY WISE PEOPLE FULLY VACCINATED\")\n",
        "    ch.scatter(cn, dv, color='y', label=\"COUNTRY WISE DAILY VACCINATIONS\")\n",
        "\n",
        "    plt.xlabel(\"COUNTRY\")\n",
        "    plt.xticks(rotation='vertical')\n",
        "    plt.title(\"COMPLETE SCATTER CHART\")\n",
        "    plt.legend()\n",
        "    plt.show()"
      ],
      "metadata": {
        "id": "jAmrMzA9xzLm"
      },
      "execution_count": 36,
      "outputs": []
    },
    {
      "cell_type": "code",
      "source": [
        "def data_sorting():\n",
        "    a1 = pd.read_csv('/country_vaccinations.csv')\n",
        "\n",
        "    print(\"press 1 to arrange the record as per the COUNTRY NAME\")\n",
        "    print(\"press 2 to arrange the record as per the TOTAL VACCINATIONS\")\n",
        "    print(\"press 3 to arrange the record as per the PEOPLE VACCINATED\")\n",
        "    print(\"press 4 to arrange the record as per the PEOPLE FULLY VACCINATED\")\n",
        "    print(\"press 5 to arrange the record as per the DAILY VACCINATIONS\")\n",
        "\n",
        "    op = int(input(\"Enter your choice:\"))\n",
        "    if op == 1:\n",
        "        a1.sort_values([\"country\"], inplace=True)\n",
        "        print(a1)\n",
        "    elif op == 2:\n",
        "        a1.sort_values([\"total_vaccinations\"], inplace=True)\n",
        "        print(a1)\n",
        "    elif op == 3:\n",
        "        a1.sort_values([\"people_vaccinated\"], inplace=True)\n",
        "        print(a1)\n",
        "    elif op == 4:\n",
        "        a1.sort_values([\"people_fully_vaccinated\"], inplace=True)\n",
        "        print(a1)\n",
        "    elif op == 5:\n",
        "        a1.sort_values([\"daily_vaccinations\"], inplace=True)\n",
        "        print(a1)\n",
        "    else:\n",
        "        print(\"Enter valid input\")"
      ],
      "metadata": {
        "id": "gGZrEY0lx1lV"
      },
      "execution_count": 37,
      "outputs": []
    },
    {
      "cell_type": "code",
      "source": [
        "def top_bottom_selected_records():\n",
        "    a1 = pd.read_csv('/country_vaccinations.csv', index_col=0)\n",
        "    top = int(input(\"How many records to display from top:\"))\n",
        "    print(\"First\", top, \"records\")\n",
        "    print(a1.head(top))\n",
        "    bottom = int(input(\"How many records to display from the bottom:\"))\n",
        "    print(\"Last\", bottom, \"records\")\n",
        "    print(a1.tail(bottom))"
      ],
      "metadata": {
        "id": "QVp6ZpeZx7q7"
      },
      "execution_count": 38,
      "outputs": []
    },
    {
      "cell_type": "code",
      "source": [
        "def duplicate():\n",
        "    print(\"Duplicate the original CSV file with new CSV file\")\n",
        "    a1 = pd.read_csv('/country_vaccinations.csv')\n",
        "    a1.to_csv('/country_vaccinations.csv')\n",
        "    print(\"Data from the new CSV file\")\n",
        "    print(a1)"
      ],
      "metadata": {
        "id": "wAhew6RKx_pE"
      },
      "execution_count": 39,
      "outputs": []
    },
    {
      "cell_type": "code",
      "source": [
        "def specific_col():\n",
        "    print(\"Reading Specific column from the CSV file\")\n",
        "    a1 = pd.read_csv('/country_vaccinations.csv', usecols=['country', 'total_vaccinations'], index_col=0)\n",
        "    print(a1)"
      ],
      "metadata": {
        "id": "oxn8TLOAyCcK"
      },
      "execution_count": 55,
      "outputs": []
    },
    {
      "cell_type": "code",
      "source": [
        "if __name__ == \"__main__\":\n",
        "    main_menu()\n",
        "    opt = int(input(\"Enter your choice:\"))\n",
        "    if opt == 1:\n",
        "        ReadCSV()\n",
        "    elif opt == 2:\n",
        "        no_index()\n",
        "    elif opt == 3:\n",
        "        line_plot()\n",
        "    elif opt == 4:\n",
        "        bar_plot()\n",
        "    elif opt == 5:\n",
        "        pie_plot()\n",
        "    elif opt == 6:\n",
        "        scatter_chart()\n",
        "    elif opt == 7:\n",
        "        data_sorting()\n",
        "    elif opt == 8:\n",
        "        top_bottom_selected_records()\n",
        "    elif opt == 9:\n",
        "        duplicate()\n",
        "    elif opt == 10:\n",
        "        specific_col()\n",
        "    else:\n",
        "        print(\"Enter valid input\")"
      ],
      "metadata": {
        "colab": {
          "base_uri": "https://localhost:8080/"
        },
        "id": "2Nw1cqsGyEvA",
        "outputId": "cea0a740-7ace-4644-ff01-7b962fe9d037"
      },
      "execution_count": 62,
      "outputs": [
        {
          "output_type": "stream",
          "name": "stdout",
          "text": [
            "!!!!!!!!!!!!!!!!!!!!!!!!!!!!!!!\n",
            "Read Data from file in Different way\n",
            "1. Read complete CSV file\n",
            "2. Reading complete file without index\n",
            "*******************************\n",
            "Data Visualisation\n",
            "3. Line Chart\n",
            "4. Bar Plot\n",
            "5. Pie Chart\n",
            "6. Scatter Chart\n",
            "*******************************\n",
            "Apply Data Manipulation in the records of CSV file\n",
            "7. Sorting the data as per your choice\n",
            "8. Read Top and Bottom Records from file as per requirement\n",
            "9. Make the copy of CSV file\n",
            "10. Read the Specific columns\n",
            "*******************************\n",
            "Enter your choice:1\n",
            "Reading Data from CSV file\n",
            "      country iso_code        date  total_vaccinations  people_vaccinated  \\\n",
            "0     Albania      ALB  2021-01-10                 0.0                0.0   \n",
            "1     Albania      ALB  2021-01-11                 NaN                NaN   \n",
            "2     Albania      ALB  2021-01-12               128.0              128.0   \n",
            "3     Albania      ALB  2021-01-13               188.0              188.0   \n",
            "4     Albania      ALB  2021-01-14               266.0              266.0   \n",
            "...       ...      ...         ...                 ...                ...   \n",
            "3550    Wales      NaN  2021-02-14            790211.0           784809.0   \n",
            "3551    Wales      NaN  2021-02-15            803178.0           795927.0   \n",
            "3552    Wales      NaN  2021-02-16            820339.0           807351.0   \n",
            "3553    Wales      NaN  2021-02-17            841975.0           822633.0   \n",
            "3554    Wales      NaN  2021-02-18            864498.0           839065.0   \n",
            "\n",
            "      people_fully_vaccinated  daily_vaccinations_raw  daily_vaccinations  \\\n",
            "0                         NaN                     NaN                 NaN   \n",
            "1                         NaN                     NaN                64.0   \n",
            "2                         NaN                     NaN                64.0   \n",
            "3                         NaN                    60.0                63.0   \n",
            "4                         NaN                    78.0                66.0   \n",
            "...                       ...                     ...                 ...   \n",
            "3550                   5402.0                 13987.0             26206.0   \n",
            "3551                   7251.0                 12967.0             24418.0   \n",
            "3552                  12988.0                 17161.0             23033.0   \n",
            "3553                  19342.0                 21636.0             22012.0   \n",
            "3554                  25433.0                 22523.0             20649.0   \n",
            "\n",
            "      total_vaccinations_per_hundred  people_vaccinated_per_hundred  \\\n",
            "0                               0.00                           0.00   \n",
            "1                                NaN                            NaN   \n",
            "2                               0.00                           0.00   \n",
            "3                               0.01                           0.01   \n",
            "4                               0.01                           0.01   \n",
            "...                              ...                            ...   \n",
            "3550                           25.06                          24.89   \n",
            "3551                           25.47                          25.24   \n",
            "3552                           26.02                          25.61   \n",
            "3553                           26.70                          26.09   \n",
            "3554                           27.42                          26.61   \n",
            "\n",
            "      people_fully_vaccinated_per_hundred  daily_vaccinations_per_million  \\\n",
            "0                                     NaN                             NaN   \n",
            "1                                     NaN                            22.0   \n",
            "2                                     NaN                            22.0   \n",
            "3                                     NaN                            22.0   \n",
            "4                                     NaN                            23.0   \n",
            "...                                   ...                             ...   \n",
            "3550                                 0.17                          8312.0   \n",
            "3551                                 0.23                          7745.0   \n",
            "3552                                 0.41                          7305.0   \n",
            "3553                                 0.61                          6982.0   \n",
            "3554                                 0.81                          6549.0   \n",
            "\n",
            "                                 vaccines                       source_name  \\\n",
            "0                         Pfizer/BioNTech                Ministry of Health   \n",
            "1                         Pfizer/BioNTech                Ministry of Health   \n",
            "2                         Pfizer/BioNTech                Ministry of Health   \n",
            "3                         Pfizer/BioNTech                Ministry of Health   \n",
            "4                         Pfizer/BioNTech                Ministry of Health   \n",
            "...                                   ...                               ...   \n",
            "3550  Oxford/AstraZeneca, Pfizer/BioNTech  Government of the United Kingdom   \n",
            "3551  Oxford/AstraZeneca, Pfizer/BioNTech  Government of the United Kingdom   \n",
            "3552  Oxford/AstraZeneca, Pfizer/BioNTech  Government of the United Kingdom   \n",
            "3553  Oxford/AstraZeneca, Pfizer/BioNTech  Government of the United Kingdom   \n",
            "3554  Oxford/AstraZeneca, Pfizer/BioNTech  Government of the United Kingdom   \n",
            "\n",
            "                                         source_website  \n",
            "0     https://shendetesia.gov.al/covid19-ministria-e...  \n",
            "1     https://shendetesia.gov.al/covid19-ministria-e...  \n",
            "2     https://shendetesia.gov.al/covid19-ministria-e...  \n",
            "3     https://shendetesia.gov.al/covid19-ministria-e...  \n",
            "4     https://shendetesia.gov.al/covid19-ministria-e...  \n",
            "...                                                 ...  \n",
            "3550  https://coronavirus.data.gov.uk/details/health...  \n",
            "3551  https://coronavirus.data.gov.uk/details/health...  \n",
            "3552  https://coronavirus.data.gov.uk/details/health...  \n",
            "3553  https://coronavirus.data.gov.uk/details/health...  \n",
            "3554  https://coronavirus.data.gov.uk/details/health...  \n",
            "\n",
            "[3555 rows x 15 columns]\n"
          ]
        }
      ]
    },
    {
      "cell_type": "code",
      "source": [],
      "metadata": {
        "id": "m6TMcSv_aGPm"
      },
      "execution_count": null,
      "outputs": []
    }
  ]
}